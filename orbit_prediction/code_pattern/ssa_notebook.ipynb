{
  "cells": [
    {
      "cell_type": "markdown",
      "id": "minimal-skill",
      "metadata": {
        "id": "minimal-skill"
      },
      "source": [
        "# Space Situational Awareness Demo\n",
        "\n",
        "\n",
        "## Installing the Orbit Prediction Pipeline Tools\n",
        "\n",
        "First we need to install the [orbit prediction package](https://github.com/IBM/spacetech-ssa/tree/master/orbit_prediction) from the [SSA project](https://github.com/ibm/spacetech-ssa) that will allow us to work with satellite orbit data."
      ]
    },
    {
      "cell_type": "code",
      "execution_count": 1,
      "id": "meaningful-timber",
      "metadata": {
        "id": "meaningful-timber",
        "outputId": "550c9fdc-570a-4e48-d209-b5be972228d8",
        "colab": {
          "base_uri": "https://localhost:8080/"
        }
      },
      "outputs": [
        {
          "output_type": "stream",
          "name": "stdout",
          "text": [
            "Obtaining orbit_prediction from git+https://github.com/IBM/spacetech-ssa.git#egg=orbit_prediction&subdirectory=orbit_prediction\n",
            "  Cloning https://github.com/IBM/spacetech-ssa.git to ./src/orbit-prediction\n",
            "  Running command git clone --filter=blob:none --quiet https://github.com/IBM/spacetech-ssa.git /content/src/orbit-prediction\n",
            "  Resolved https://github.com/IBM/spacetech-ssa.git to commit 26986e5cdd6920ae82c739348904b41733f9e0f9\n",
            "  Preparing metadata (setup.py) ... \u001b[?25l\u001b[?25hdone\n",
            "Requirement already satisfied: astropy in /usr/local/lib/python3.11/dist-packages (from orbit_prediction) (7.1.0)\n",
            "Requirement already satisfied: joblib in /usr/local/lib/python3.11/dist-packages (from orbit_prediction) (1.5.0)\n",
            "Requirement already satisfied: matplotlib in /usr/local/lib/python3.11/dist-packages (from orbit_prediction) (3.10.0)\n",
            "Requirement already satisfied: numpy in /usr/local/lib/python3.11/dist-packages (from orbit_prediction) (2.0.2)\n",
            "Requirement already satisfied: pandas in /usr/local/lib/python3.11/dist-packages (from orbit_prediction) (2.2.2)\n",
            "Collecting poliastro (from orbit_prediction)\n",
            "  Downloading poliastro-0.12.0-py3-none-any.whl.metadata (10 kB)\n",
            "\u001b[33mWARNING: Ignoring version 0.12.0 of poliastro since it has invalid metadata:\n",
            "Requested poliastro from https://files.pythonhosted.org/packages/1c/ce/b2cf237afeacddd856bb3ae524c44b8aec62e14c13d137283122fd0b5099/poliastro-0.12.0-py3-none-any.whl (from orbit_prediction) has invalid metadata: .* suffix can only be used with `==` or `!=` operators\n",
            "    astropy (<4.*,>=3.1)\n",
            "             ~~~^\n",
            "Please use pip<24.1 if you need to use this version.\u001b[0m\u001b[33m\n",
            "\u001b[0m  Downloading poliastro-0.11.1-py3-none-any.whl.metadata (9.9 kB)\n",
            "\u001b[33mWARNING: Ignoring version 0.11.1 of poliastro since it has invalid metadata:\n",
            "Requested poliastro from https://files.pythonhosted.org/packages/f7/9a/934e863eee7acca4648b3570085da982cde69969527b9f4d7a0445f16789/poliastro-0.11.1-py3-none-any.whl (from orbit_prediction) has invalid metadata: .* suffix can only be used with `==` or `!=` operators\n",
            "    astropy (<4.*,>=3.0)\n",
            "             ~~~^\n",
            "Please use pip<24.1 if you need to use this version.\u001b[0m\u001b[33m\n",
            "\u001b[0m  Downloading poliastro-0.11.0-py3-none-any.whl.metadata (10.0 kB)\n",
            "\u001b[33mWARNING: Ignoring version 0.11.0 of poliastro since it has invalid metadata:\n",
            "Requested poliastro from https://files.pythonhosted.org/packages/31/7d/55cfd3a348ed5575d0468e26c65c35295fc743c28598ba790561e065a263/poliastro-0.11.0-py3-none-any.whl (from orbit_prediction) has invalid metadata: .* suffix can only be used with `==` or `!=` operators\n",
            "    astropy (<4.*,>=3.0)\n",
            "             ~~~^\n",
            "Please use pip<24.1 if you need to use this version.\u001b[0m\u001b[33m\n",
            "\u001b[0m  Downloading poliastro-0.10.0-py3-none-any.whl.metadata (9.6 kB)\n",
            "\u001b[33mWARNING: Ignoring version 0.10.0 of poliastro since it has invalid metadata:\n",
            "Requested poliastro from https://files.pythonhosted.org/packages/2d/cd/c230682169e0a66f54dd0e131ef94b36f8770cce40908e152ade61f03b28/poliastro-0.10.0-py3-none-any.whl (from orbit_prediction) has invalid metadata: .* suffix can only be used with `==` or `!=` operators\n",
            "    astropy (<4.*,>=3.0)\n",
            "             ~~~^\n",
            "Please use pip<24.1 if you need to use this version.\u001b[0m\u001b[33m\n",
            "\u001b[0m  Downloading poliastro-0.9.1-py3-none-any.whl.metadata (9.5 kB)\n",
            "\u001b[33mWARNING: Ignoring version 0.9.1 of poliastro since it has invalid metadata:\n",
            "Requested poliastro from https://files.pythonhosted.org/packages/08/6a/2d358c5fb7057a2abe3c247b971f610841b94b77a26c6bef100d68cab528/poliastro-0.9.1-py3-none-any.whl (from orbit_prediction) has invalid metadata: .* suffix can only be used with `==` or `!=` operators\n",
            "    astropy (<4.*,>=3.0)\n",
            "             ~~~^\n",
            "Please use pip<24.1 if you need to use this version.\u001b[0m\u001b[33m\n",
            "\u001b[0m  Downloading poliastro-0.9.0-py3-none-any.whl.metadata (9.5 kB)\n",
            "\u001b[33mWARNING: Ignoring version 0.9.0 of poliastro since it has invalid metadata:\n",
            "Requested poliastro from https://files.pythonhosted.org/packages/26/d8/56fcb725b38c91a337ecce4d1d6c2417fa0d8ae1c5119772380b9a8c71ae/poliastro-0.9.0-py3-none-any.whl (from orbit_prediction) has invalid metadata: .* suffix can only be used with `==` or `!=` operators\n",
            "    astropy (<4.*,>=3.0)\n",
            "             ~~~^\n",
            "Please use pip<24.1 if you need to use this version.\u001b[0m\u001b[33m\n",
            "\u001b[0m  Downloading poliastro-0.8.0-py3-none-any.whl.metadata (9.4 kB)\n",
            "\u001b[33mWARNING: Ignoring version 0.8.0 of poliastro since it has invalid metadata:\n",
            "Requested poliastro from https://files.pythonhosted.org/packages/c3/be/9a36875a8f554ed7aefde934eca3d93972d10528b677f1a8f7900d7d0fc2/poliastro-0.8.0-py3-none-any.whl (from orbit_prediction) has invalid metadata: .* suffix can only be used with `==` or `!=` operators\n",
            "    astropy (<3.*,>=2.0.1)\n",
            "             ~~~^\n",
            "Please use pip<24.1 if you need to use this version.\u001b[0m\u001b[33m\n",
            "\u001b[0m  Downloading poliastro-0.7.0-py3-none-any.whl.metadata (9.2 kB)\n",
            "Requirement already satisfied: pyarrow in /usr/local/lib/python3.11/dist-packages (from orbit_prediction) (18.1.0)\n",
            "Requirement already satisfied: scikit-learn in /usr/local/lib/python3.11/dist-packages (from orbit_prediction) (1.6.1)\n",
            "Collecting spacetrack (from orbit_prediction)\n",
            "  Downloading spacetrack-1.4.0-py3-none-any.whl.metadata (4.3 kB)\n",
            "Collecting TLE-tools (from orbit_prediction)\n",
            "  Downloading TLE_tools-0.2.3-py2.py3-none-any.whl.metadata (5.0 kB)\n",
            "Requirement already satisfied: tqdm in /usr/local/lib/python3.11/dist-packages (from orbit_prediction) (4.67.1)\n",
            "Requirement already satisfied: xgboost in /usr/local/lib/python3.11/dist-packages (from orbit_prediction) (2.1.4)\n",
            "Requirement already satisfied: pyerfa>=2.0.1.1 in /usr/local/lib/python3.11/dist-packages (from astropy->orbit_prediction) (2.0.1.5)\n",
            "Requirement already satisfied: astropy-iers-data>=0.2025.4.28.0.37.27 in /usr/local/lib/python3.11/dist-packages (from astropy->orbit_prediction) (0.2025.5.19.0.38.36)\n",
            "Requirement already satisfied: PyYAML>=6.0.0 in /usr/local/lib/python3.11/dist-packages (from astropy->orbit_prediction) (6.0.2)\n",
            "Requirement already satisfied: packaging>=22.0.0 in /usr/local/lib/python3.11/dist-packages (from astropy->orbit_prediction) (24.2)\n",
            "Requirement already satisfied: contourpy>=1.0.1 in /usr/local/lib/python3.11/dist-packages (from matplotlib->orbit_prediction) (1.3.2)\n",
            "Requirement already satisfied: cycler>=0.10 in /usr/local/lib/python3.11/dist-packages (from matplotlib->orbit_prediction) (0.12.1)\n",
            "Requirement already satisfied: fonttools>=4.22.0 in /usr/local/lib/python3.11/dist-packages (from matplotlib->orbit_prediction) (4.58.0)\n",
            "Requirement already satisfied: kiwisolver>=1.3.1 in /usr/local/lib/python3.11/dist-packages (from matplotlib->orbit_prediction) (1.4.8)\n",
            "Requirement already satisfied: pillow>=8 in /usr/local/lib/python3.11/dist-packages (from matplotlib->orbit_prediction) (11.2.1)\n",
            "Requirement already satisfied: pyparsing>=2.3.1 in /usr/local/lib/python3.11/dist-packages (from matplotlib->orbit_prediction) (3.2.3)\n",
            "Requirement already satisfied: python-dateutil>=2.7 in /usr/local/lib/python3.11/dist-packages (from matplotlib->orbit_prediction) (2.9.0.post0)\n",
            "Requirement already satisfied: pytz>=2020.1 in /usr/local/lib/python3.11/dist-packages (from pandas->orbit_prediction) (2025.2)\n",
            "Requirement already satisfied: tzdata>=2022.7 in /usr/local/lib/python3.11/dist-packages (from pandas->orbit_prediction) (2025.2)\n",
            "Collecting poliastro (from orbit_prediction)\n",
            "  Using cached poliastro-0.12.0-py3-none-any.whl.metadata (10 kB)\n",
            "\u001b[33mWARNING: Ignoring version 0.12.0 of poliastro since it has invalid metadata:\n",
            "Requested poliastro from https://files.pythonhosted.org/packages/1c/ce/b2cf237afeacddd856bb3ae524c44b8aec62e14c13d137283122fd0b5099/poliastro-0.12.0-py3-none-any.whl (from orbit_prediction) has invalid metadata: .* suffix can only be used with `==` or `!=` operators\n",
            "    astropy (<4.*,>=3.1)\n",
            "             ~~~^\n",
            "Please use pip<24.1 if you need to use this version.\u001b[0m\u001b[33m\n",
            "\u001b[0m  Using cached poliastro-0.11.1-py3-none-any.whl.metadata (9.9 kB)\n",
            "\u001b[33mWARNING: Ignoring version 0.11.1 of poliastro since it has invalid metadata:\n",
            "Requested poliastro from https://files.pythonhosted.org/packages/f7/9a/934e863eee7acca4648b3570085da982cde69969527b9f4d7a0445f16789/poliastro-0.11.1-py3-none-any.whl (from orbit_prediction) has invalid metadata: .* suffix can only be used with `==` or `!=` operators\n",
            "    astropy (<4.*,>=3.0)\n",
            "             ~~~^\n",
            "Please use pip<24.1 if you need to use this version.\u001b[0m\u001b[33m\n",
            "\u001b[0m  Using cached poliastro-0.11.0-py3-none-any.whl.metadata (10.0 kB)\n",
            "\u001b[33mWARNING: Ignoring version 0.11.0 of poliastro since it has invalid metadata:\n",
            "Requested poliastro from https://files.pythonhosted.org/packages/31/7d/55cfd3a348ed5575d0468e26c65c35295fc743c28598ba790561e065a263/poliastro-0.11.0-py3-none-any.whl (from orbit_prediction) has invalid metadata: .* suffix can only be used with `==` or `!=` operators\n",
            "    astropy (<4.*,>=3.0)\n",
            "             ~~~^\n",
            "Please use pip<24.1 if you need to use this version.\u001b[0m\u001b[33m\n",
            "\u001b[0m  Using cached poliastro-0.10.0-py3-none-any.whl.metadata (9.6 kB)\n",
            "\u001b[33mWARNING: Ignoring version 0.10.0 of poliastro since it has invalid metadata:\n",
            "Requested poliastro from https://files.pythonhosted.org/packages/2d/cd/c230682169e0a66f54dd0e131ef94b36f8770cce40908e152ade61f03b28/poliastro-0.10.0-py3-none-any.whl (from orbit_prediction) has invalid metadata: .* suffix can only be used with `==` or `!=` operators\n",
            "    astropy (<4.*,>=3.0)\n",
            "             ~~~^\n",
            "Please use pip<24.1 if you need to use this version.\u001b[0m\u001b[33m\n",
            "\u001b[0m  Using cached poliastro-0.9.1-py3-none-any.whl.metadata (9.5 kB)\n",
            "\u001b[33mWARNING: Ignoring version 0.9.1 of poliastro since it has invalid metadata:\n",
            "Requested poliastro from https://files.pythonhosted.org/packages/08/6a/2d358c5fb7057a2abe3c247b971f610841b94b77a26c6bef100d68cab528/poliastro-0.9.1-py3-none-any.whl (from orbit_prediction) has invalid metadata: .* suffix can only be used with `==` or `!=` operators\n",
            "    astropy (<4.*,>=3.0)\n",
            "             ~~~^\n",
            "Please use pip<24.1 if you need to use this version.\u001b[0m\u001b[33m\n",
            "\u001b[0m  Using cached poliastro-0.9.0-py3-none-any.whl.metadata (9.5 kB)\n",
            "\u001b[33mWARNING: Ignoring version 0.9.0 of poliastro since it has invalid metadata:\n",
            "Requested poliastro from https://files.pythonhosted.org/packages/26/d8/56fcb725b38c91a337ecce4d1d6c2417fa0d8ae1c5119772380b9a8c71ae/poliastro-0.9.0-py3-none-any.whl (from orbit_prediction) has invalid metadata: .* suffix can only be used with `==` or `!=` operators\n",
            "    astropy (<4.*,>=3.0)\n",
            "             ~~~^\n",
            "Please use pip<24.1 if you need to use this version.\u001b[0m\u001b[33m\n",
            "\u001b[0m  Using cached poliastro-0.8.0-py3-none-any.whl.metadata (9.4 kB)\n",
            "\u001b[33mWARNING: Ignoring version 0.8.0 of poliastro since it has invalid metadata:\n",
            "Requested poliastro from https://files.pythonhosted.org/packages/c3/be/9a36875a8f554ed7aefde934eca3d93972d10528b677f1a8f7900d7d0fc2/poliastro-0.8.0-py3-none-any.whl (from orbit_prediction) has invalid metadata: .* suffix can only be used with `==` or `!=` operators\n",
            "    astropy (<3.*,>=2.0.1)\n",
            "             ~~~^\n",
            "Please use pip<24.1 if you need to use this version.\u001b[0m\u001b[33m\n",
            "\u001b[0mRequirement already satisfied: beautifulsoup4 in /usr/local/lib/python3.11/dist-packages (from poliastro->orbit_prediction) (4.13.4)\n",
            "Collecting jplephem (from poliastro->orbit_prediction)\n",
            "  Downloading jplephem-2.22-py3-none-any.whl.metadata (22 kB)\n",
            "Requirement already satisfied: numba>=0.25 in /usr/local/lib/python3.11/dist-packages (from poliastro->orbit_prediction) (0.60.0)\n",
            "Requirement already satisfied: requests in /usr/local/lib/python3.11/dist-packages (from poliastro->orbit_prediction) (2.32.3)\n",
            "Requirement already satisfied: scipy in /usr/local/lib/python3.11/dist-packages (from poliastro->orbit_prediction) (1.15.3)\n",
            "Requirement already satisfied: threadpoolctl>=3.1.0 in /usr/local/lib/python3.11/dist-packages (from scikit-learn->orbit_prediction) (3.6.0)\n",
            "Requirement already satisfied: filelock>=3.17.0 in /usr/local/lib/python3.11/dist-packages (from spacetrack->orbit_prediction) (3.18.0)\n",
            "Requirement already satisfied: httpx>=0.28.1 in /usr/local/lib/python3.11/dist-packages (from spacetrack->orbit_prediction) (0.28.1)\n",
            "Collecting logbook>=1.8.0 (from spacetrack->orbit_prediction)\n",
            "  Downloading logbook-1.8.1-cp311-cp311-manylinux_2_17_x86_64.manylinux2014_x86_64.whl.metadata (2.6 kB)\n",
            "Collecting outcome>=1.3.0.post0 (from spacetrack->orbit_prediction)\n",
            "  Downloading outcome-1.3.0.post0-py2.py3-none-any.whl.metadata (2.6 kB)\n",
            "Requirement already satisfied: platformdirs>=4.3.6 in /usr/local/lib/python3.11/dist-packages (from spacetrack->orbit_prediction) (4.3.8)\n",
            "Collecting represent>=2.1 (from spacetrack->orbit_prediction)\n",
            "  Downloading Represent-2.1-py3-none-any.whl.metadata (3.6 kB)\n",
            "Collecting rush>=2021.4.0 (from spacetrack->orbit_prediction)\n",
            "  Downloading rush-2021.4.0-py3-none-any.whl.metadata (3.5 kB)\n",
            "Requirement already satisfied: sniffio>=1.3.1 in /usr/local/lib/python3.11/dist-packages (from spacetrack->orbit_prediction) (1.3.1)\n",
            "Requirement already satisfied: attrs>=19.0.0 in /usr/local/lib/python3.11/dist-packages (from TLE-tools->orbit_prediction) (25.3.0)\n",
            "INFO: pip is looking at multiple versions of tle-tools to determine which version is compatible with other requirements. This could take a while.\n",
            "Collecting TLE-tools (from orbit_prediction)\n",
            "  Downloading TLE_tools-0.2.2-py2.py3-none-any.whl.metadata (5.0 kB)\n",
            "  Downloading TLE_tools-0.2.1-py2.py3-none-any.whl.metadata (5.0 kB)\n",
            "Collecting poliastro (from orbit_prediction)\n",
            "  Using cached poliastro-0.12.0-py3-none-any.whl.metadata (10 kB)\n",
            "\u001b[33mWARNING: Ignoring version 0.12.0 of poliastro since it has invalid metadata:\n",
            "Requested poliastro from https://files.pythonhosted.org/packages/1c/ce/b2cf237afeacddd856bb3ae524c44b8aec62e14c13d137283122fd0b5099/poliastro-0.12.0-py3-none-any.whl (from orbit_prediction) has invalid metadata: .* suffix can only be used with `==` or `!=` operators\n",
            "    astropy (<4.*,>=3.1)\n",
            "             ~~~^\n",
            "Please use pip<24.1 if you need to use this version.\u001b[0m\u001b[33m\n",
            "\u001b[0mCollecting TLE-tools (from orbit_prediction)\n",
            "  Downloading TLE_tools-0.2.0.post0-py2.py3-none-any.whl.metadata (4.8 kB)\n",
            "Collecting poliastro (from orbit_prediction)\n",
            "  Using cached poliastro-0.12.0-py3-none-any.whl.metadata (10 kB)\n",
            "\u001b[33mWARNING: Ignoring version 0.12.0 of poliastro since it has invalid metadata:\n",
            "Requested poliastro from https://files.pythonhosted.org/packages/1c/ce/b2cf237afeacddd856bb3ae524c44b8aec62e14c13d137283122fd0b5099/poliastro-0.12.0-py3-none-any.whl (from orbit_prediction) has invalid metadata: .* suffix can only be used with `==` or `!=` operators\n",
            "    astropy (<4.*,>=3.1)\n",
            "             ~~~^\n",
            "Please use pip<24.1 if you need to use this version.\u001b[0m\u001b[33m\n",
            "\u001b[0mCollecting TLE-tools (from orbit_prediction)\n",
            "  Downloading TLE_tools-0.2.0-py2.py3-none-any.whl.metadata (4.8 kB)\n",
            "Collecting poliastro (from orbit_prediction)\n",
            "  Using cached poliastro-0.12.0-py3-none-any.whl.metadata (10 kB)\n",
            "\u001b[33mWARNING: Ignoring version 0.12.0 of poliastro since it has invalid metadata:\n",
            "Requested poliastro from https://files.pythonhosted.org/packages/1c/ce/b2cf237afeacddd856bb3ae524c44b8aec62e14c13d137283122fd0b5099/poliastro-0.12.0-py3-none-any.whl (from orbit_prediction) has invalid metadata: .* suffix can only be used with `==` or `!=` operators\n",
            "    astropy (<4.*,>=3.1)\n",
            "             ~~~^\n",
            "Please use pip<24.1 if you need to use this version.\u001b[0m\u001b[33m\n",
            "\u001b[0mCollecting TLE-tools (from orbit_prediction)\n",
            "  Downloading TLE_tools-0.1.2-py2.py3-none-any.whl.metadata (3.7 kB)\n",
            "Collecting poliastro (from orbit_prediction)\n",
            "  Using cached poliastro-0.12.0-py3-none-any.whl.metadata (10 kB)\n",
            "\u001b[33mWARNING: Ignoring version 0.12.0 of poliastro since it has invalid metadata:\n",
            "Requested poliastro from https://files.pythonhosted.org/packages/1c/ce/b2cf237afeacddd856bb3ae524c44b8aec62e14c13d137283122fd0b5099/poliastro-0.12.0-py3-none-any.whl (from orbit_prediction) has invalid metadata: .* suffix can only be used with `==` or `!=` operators\n",
            "    astropy (<4.*,>=3.1)\n",
            "             ~~~^\n",
            "Please use pip<24.1 if you need to use this version.\u001b[0m\u001b[33m\n",
            "\u001b[0mCollecting TLE-tools (from orbit_prediction)\n",
            "  Downloading TLE_tools-0.1.1-py2.py3-none-any.whl.metadata (3.7 kB)\n",
            "Collecting poliastro (from orbit_prediction)\n",
            "  Using cached poliastro-0.12.0-py3-none-any.whl.metadata (10 kB)\n",
            "\u001b[33mWARNING: Ignoring version 0.12.0 of poliastro since it has invalid metadata:\n",
            "Requested poliastro from https://files.pythonhosted.org/packages/1c/ce/b2cf237afeacddd856bb3ae524c44b8aec62e14c13d137283122fd0b5099/poliastro-0.12.0-py3-none-any.whl (from orbit_prediction) has invalid metadata: .* suffix can only be used with `==` or `!=` operators\n",
            "    astropy (<4.*,>=3.1)\n",
            "             ~~~^\n",
            "Please use pip<24.1 if you need to use this version.\u001b[0m\u001b[33m\n",
            "\u001b[0mCollecting TLE-tools (from orbit_prediction)\n",
            "  Downloading TLE_tools-0.1.0.post0-py2.py3-none-any.whl.metadata (3.7 kB)\n",
            "Collecting poliastro (from orbit_prediction)\n",
            "  Using cached poliastro-0.12.0-py3-none-any.whl.metadata (10 kB)\n",
            "\u001b[33mWARNING: Ignoring version 0.12.0 of poliastro since it has invalid metadata:\n",
            "Requested poliastro from https://files.pythonhosted.org/packages/1c/ce/b2cf237afeacddd856bb3ae524c44b8aec62e14c13d137283122fd0b5099/poliastro-0.12.0-py3-none-any.whl (from orbit_prediction) has invalid metadata: .* suffix can only be used with `==` or `!=` operators\n",
            "    astropy (<4.*,>=3.1)\n",
            "             ~~~^\n",
            "Please use pip<24.1 if you need to use this version.\u001b[0m\u001b[33m\n",
            "\u001b[0mINFO: pip is still looking at multiple versions of tle-tools to determine which version is compatible with other requirements. This could take a while.\n",
            "Collecting TLE-tools (from orbit_prediction)\n",
            "  Downloading TLE_tools-0.1.0-py2.py3-none-any.whl.metadata (1.9 kB)\n",
            "Collecting poliastro (from orbit_prediction)\n",
            "  Using cached poliastro-0.12.0-py3-none-any.whl.metadata (10 kB)\n",
            "\u001b[33mWARNING: Ignoring version 0.12.0 of poliastro since it has invalid metadata:\n",
            "Requested poliastro from https://files.pythonhosted.org/packages/1c/ce/b2cf237afeacddd856bb3ae524c44b8aec62e14c13d137283122fd0b5099/poliastro-0.12.0-py3-none-any.whl (from orbit_prediction) has invalid metadata: .* suffix can only be used with `==` or `!=` operators\n",
            "    astropy (<4.*,>=3.1)\n",
            "             ~~~^\n",
            "Please use pip<24.1 if you need to use this version.\u001b[0m\u001b[33m\n",
            "\u001b[0m\u001b[31mERROR: Cannot install orbit-prediction==0.0.1 and orbit_prediction because these package versions have conflicting dependencies.\u001b[0m\u001b[31m\n",
            "\u001b[0m\n",
            "The conflict is caused by:\n",
            "    orbit-prediction 0.0.1 depends on poliastro\n",
            "    tle-tools 0.2.3 depends on poliastro>=0.14.0\n",
            "    orbit-prediction 0.0.1 depends on poliastro\n",
            "    tle-tools 0.2.2 depends on poliastro>=0.14.0\n",
            "    orbit-prediction 0.0.1 depends on poliastro\n",
            "    tle-tools 0.2.1 depends on poliastro>=0.12.0\n",
            "    orbit-prediction 0.0.1 depends on poliastro\n",
            "    tle-tools 0.2.0.post0 depends on poliastro>=0.12.0\n",
            "    orbit-prediction 0.0.1 depends on poliastro\n",
            "    tle-tools 0.2.0 depends on poliastro>=0.12.0\n",
            "    orbit-prediction 0.0.1 depends on poliastro\n",
            "    tle-tools 0.1.2 depends on poliastro>=0.12.0\n",
            "    orbit-prediction 0.0.1 depends on poliastro\n",
            "    tle-tools 0.1.1 depends on poliastro>=0.12.0\n",
            "    orbit-prediction 0.0.1 depends on poliastro\n",
            "    tle-tools 0.1.0.post0 depends on poliastro>=0.12.0\n",
            "    orbit-prediction 0.0.1 depends on poliastro\n",
            "    tle-tools 0.1.0 depends on poliastro>=0.12.0\n",
            "\n",
            "To fix this you could try to:\n",
            "1. loosen the range of package versions you've specified\n",
            "2. remove package versions to allow pip to attempt to solve the dependency conflict\n",
            "\n",
            "\u001b[31mERROR: ResolutionImpossible: for help visit https://pip.pypa.io/en/latest/topics/dependency-resolution/#dealing-with-dependency-conflicts\u001b[0m\u001b[31m\n",
            "\u001b[0m"
          ]
        }
      ],
      "source": [
        "!pip install -e git+https://github.com/IBM/spacetech-ssa.git#egg=orbit_prediction\\&subdirectory=orbit_prediction"
      ]
    },
    {
      "cell_type": "markdown",
      "id": "regulation-gravity",
      "metadata": {
        "id": "regulation-gravity"
      },
      "source": [
        "## Getting TLE Data\n",
        "\n",
        "[Two-line element set (TLE)](https://en.wikipedia.org/wiki/Two-line_element_set) is a data format that specifies the orbit of an object around the Earth at a particular point in time. The U.S. government provides an API for downloading TLE data and you can sign up for an account [here](https://www.space-track.org/auth/login). You should enter your account credentials in the cell below."
      ]
    },
    {
      "cell_type": "code",
      "execution_count": 2,
      "id": "cloudy-official",
      "metadata": {
        "id": "cloudy-official"
      },
      "outputs": [],
      "source": [
        "SPACETRACK_USERNAME=''\n",
        "SPACETRACK_PASSWORD=''"
      ]
    },
    {
      "cell_type": "markdown",
      "id": "careful-restriction",
      "metadata": {
        "id": "careful-restriction"
      },
      "source": [
        "Next we will use the SpaceTrack API to download orbit data for the International Space Station (ISS) for the past 30 days. First we import the module that will allow us to ETL the SpaceTrack TLE data."
      ]
    },
    {
      "cell_type": "code",
      "execution_count": 3,
      "id": "separated-recommendation",
      "metadata": {
        "id": "separated-recommendation",
        "outputId": "b25ea38b-ec9b-4656-eef9-c0223b74dd79",
        "colab": {
          "base_uri": "https://localhost:8080/",
          "height": 314
        }
      },
      "outputs": [
        {
          "output_type": "error",
          "ename": "ModuleNotFoundError",
          "evalue": "No module named 'orbit_prediction'",
          "traceback": [
            "\u001b[0;31m---------------------------------------------------------------------------\u001b[0m",
            "\u001b[0;31mModuleNotFoundError\u001b[0m                       Traceback (most recent call last)",
            "\u001b[0;32m<ipython-input-3-d551e4c1c8f8>\u001b[0m in \u001b[0;36m<cell line: 0>\u001b[0;34m()\u001b[0m\n\u001b[0;32m----> 1\u001b[0;31m \u001b[0;32mimport\u001b[0m \u001b[0morbit_prediction\u001b[0m\u001b[0;34m.\u001b[0m\u001b[0mspacetrack_etl\u001b[0m \u001b[0;32mas\u001b[0m \u001b[0metl\u001b[0m\u001b[0;34m\u001b[0m\u001b[0;34m\u001b[0m\u001b[0m\n\u001b[0m",
            "\u001b[0;31mModuleNotFoundError\u001b[0m: No module named 'orbit_prediction'",
            "",
            "\u001b[0;31m---------------------------------------------------------------------------\u001b[0;32m\nNOTE: If your import is failing due to a missing package, you can\nmanually install dependencies using either !pip or !apt.\n\nTo view examples of installing some common dependencies, click the\n\"Open Examples\" button below.\n\u001b[0;31m---------------------------------------------------------------------------\u001b[0m\n"
          ],
          "errorDetails": {
            "actions": [
              {
                "action": "open_url",
                "actionText": "Open Examples",
                "url": "/notebooks/snippets/importing_libraries.ipynb"
              }
            ]
          }
        }
      ],
      "source": [
        "import orbit_prediction.spacetrack_etl as etl"
      ]
    },
    {
      "cell_type": "markdown",
      "id": "mediterranean-store",
      "metadata": {
        "id": "mediterranean-store"
      },
      "source": [
        "Next we create a SpaceTrack API client. The SpaceTrack API is heavily rate limited and this client will keep us compliant with the terms of use."
      ]
    },
    {
      "cell_type": "code",
      "execution_count": null,
      "id": "detected-techno",
      "metadata": {
        "id": "detected-techno"
      },
      "outputs": [],
      "source": [
        "spacetrack_client = etl.build_space_track_client(SPACETRACK_USERNAME,\n",
        "                                                 SPACETRACK_PASSWORD)"
      ]
    },
    {
      "cell_type": "markdown",
      "id": "turkish-hamburg",
      "metadata": {
        "id": "turkish-hamburg"
      },
      "source": [
        "We then create an instance that knows how to ETL the raw TLE data into a [pandas](https://pandas.pydata.org) [DataFrame](https://pandas.pydata.org/pandas-docs/stable/reference/api/pandas.DataFrame.html)."
      ]
    },
    {
      "cell_type": "code",
      "execution_count": null,
      "id": "logical-criterion",
      "metadata": {
        "id": "logical-criterion"
      },
      "outputs": [],
      "source": [
        "spacetrack_etl = etl.SpaceTrackETL(spacetrack_client)"
      ]
    },
    {
      "cell_type": "markdown",
      "id": "emotional-mystery",
      "metadata": {
        "id": "emotional-mystery"
      },
      "source": [
        "Finally we fetch the raw TLE data and do the ETL. Every satellite in orbit has a [NORAD ID](https://en.wikipedia.org/wiki/Satellite_Catalog_Number) associated with it and the ID for the ISS is `25544`."
      ]
    },
    {
      "cell_type": "code",
      "execution_count": null,
      "id": "resistant-brazilian",
      "metadata": {
        "id": "resistant-brazilian"
      },
      "outputs": [],
      "source": [
        "iss_orbit_data = spacetrack_etl.build_leo_df(norad_ids=['25544'],\n",
        "                                             last_n_days=30,\n",
        "                                             only_latest=None)"
      ]
    },
    {
      "cell_type": "markdown",
      "id": "lonely-history",
      "metadata": {
        "id": "lonely-history"
      },
      "source": [
        "Lets take a look at the resulting DataFrame. Each line corresponds to a given observation of the ISS from the ground. Each observation consists of a timestamp the observation was made called the `epoch` and two 3-dimensional real valued vectors, **r** and **v**,\n",
        "\n",
        "\\begin{equation*}\n",
        "  \\mathbf{r} =\n",
        "  \\begin{pmatrix}\n",
        "    r_{x}\\\\\n",
        "    r_{y}\\\\\n",
        "    r_{z}\\\\\n",
        "  \\end{pmatrix}\n",
        "  \\mathbf{v} =\n",
        "  \\begin{pmatrix}\n",
        "    v_{x}\\\\\n",
        "    v_{y}\\\\\n",
        "    v_{z}\\\\\n",
        "  \\end{pmatrix}\n",
        "\\end{equation*}\n",
        "\n",
        "corresponding to the position and velocity of the object respectively."
      ]
    },
    {
      "cell_type": "code",
      "execution_count": null,
      "id": "standing-election",
      "metadata": {
        "id": "standing-election"
      },
      "outputs": [],
      "source": [
        "iss_orbit_data"
      ]
    },
    {
      "cell_type": "markdown",
      "id": "tested-wings",
      "metadata": {
        "id": "tested-wings"
      },
      "source": [
        "A detailed description of every column is here:\n",
        "\n",
        "| Field        | Description                                         | Type     |\n",
        "|------------ |--------------------------------------------------- |-------- |\n",
        "| aso\\_id      | The unique ID for the ASO                           | string   |\n",
        "| aso\\_name    | The name of the ASO                                 | string   |\n",
        "| epoch        | The timestamp the orbital observation was taken     | datetime |\n",
        "| r\\_x         | The \\`x\\` component of the position vector \\`r\\`    | float    |\n",
        "| r\\_y         | The \\`y\\` component of the position vector \\`r\\`    | float    |\n",
        "| r\\_z         | The \\`z\\` component of the position vector \\`r\\`    | float    |\n",
        "| v\\_x         | The \\`x\\` component of the velocity vector \\`v\\`    | float    |\n",
        "| v\\_y         | The \\`y\\` component of the velocity vector \\`v\\`    | float    |\n",
        "| v\\_z         | The \\`z\\` component of the velocity vector \\`v\\`    | float    |\n",
        "| object\\_type | Whether the ASO is a paylod, rocket body, or debris | string   |\n",
        "\n",
        "\n",
        "## Building an ML Training Data Set\n",
        "\n",
        "In this section we use the ISS orbit data from the last section to build a training data set for our machine learning models. We do this by using a physics-based orbital mechanics model to predict where it thinks the ISS will be for the observations that are 3 days in advance of a given row of our dataset. We can then compare where the ISS actually was based on the radar data and where the physics model says the ISS should have been. This value will be the error in the orbital mechanics model."
      ]
    },
    {
      "cell_type": "code",
      "execution_count": null,
      "id": "proper-smooth",
      "metadata": {
        "id": "proper-smooth"
      },
      "outputs": [],
      "source": [
        "import orbit_prediction.build_training_data as training"
      ]
    },
    {
      "cell_type": "markdown",
      "id": "moderate-aerospace",
      "metadata": {
        "id": "moderate-aerospace"
      },
      "source": [
        "This function uses a physics model to predict where the ISS will be based on the radar data."
      ]
    },
    {
      "cell_type": "code",
      "execution_count": null,
      "id": "pacific-branch",
      "metadata": {
        "id": "pacific-branch"
      },
      "outputs": [],
      "source": [
        "physics_model_predicted_orbits = training.predict_orbits(iss_orbit_data,\n",
        "                                                         last_n_days=None,\n",
        "                                                         n_pred_days=3)"
      ]
    },
    {
      "cell_type": "markdown",
      "id": "assured-positive",
      "metadata": {
        "id": "assured-positive"
      },
      "source": [
        "It added the following columns to our DataFrame:\n",
        "\n",
        "| Field               | Description                                                                   | Type     |\n",
        "|------------------- |----------------------------------------------------------------------------- |-------- |\n",
        "| start\\_epoch        | The \\`epoch\\` when the prediction was started                                 | datetime |\n",
        "| start\\_r\\_x         | The \\`x\\` component of the position vector \\`r\\` where the prediction started | float    |\n",
        "| start\\_r\\_y         | The \\`y\\` component of the position vector \\`r\\` where the prediction started | float    |\n",
        "| start\\_r\\_z         | The \\`z\\` component of the position vector \\`r\\` where the prediction started | float    |\n",
        "| start\\_v\\_x         | The \\`x\\` component of the velocity vector \\`v\\` where the prediction started | float    |\n",
        "| start\\_v\\_y         | The \\`y\\` component of the velocity vector \\`v\\` where the prediction started | float    |\n",
        "| start\\_v\\_z         | The \\`z\\` component of the velocity vector \\`v\\` where the prediction started | float    |\n",
        "| elapsed\\_seconds    | The number of seconds between the \\`start\\_epoch\\` and \\`epoch\\`              | float    |\n",
        "| physics\\_pred\\_r\\_x | The \\`x\\` component of the predicted position vector \\`r\\`                    | float    |\n",
        "| physics\\_pred\\_r\\_y | The \\`y\\` component of the predicted position vector \\`r\\`                    | float    |\n",
        "| physics\\_pred\\_r\\_z | The \\`z\\` component of the predicted position vector \\`r\\`                    | float    |\n",
        "| physics\\_pred\\_v\\_x | The \\`x\\` component of the predicted velocity vector \\`v\\`                    | float    |\n",
        "| physics\\_pred\\_v\\_y | The \\`y\\` component of the predicted velocity vector \\`v\\`                    | float    |\n",
        "| physics\\_pred\\_v\\_z | The \\`z\\` component of the predicted velocity vector \\`v\\`                    | float    |\n",
        "\n",
        "In the final part of this section, we calculate the error in the physical model."
      ]
    },
    {
      "cell_type": "code",
      "execution_count": null,
      "id": "stone-assets",
      "metadata": {
        "id": "stone-assets"
      },
      "outputs": [],
      "source": [
        "physics_model_errors = training.calc_physics_error(physics_model_predicted_orbits)"
      ]
    },
    {
      "cell_type": "markdown",
      "id": "alpha-minute",
      "metadata": {
        "id": "alpha-minute"
      },
      "source": [
        "Which adds the following to our training data:\n",
        "\n",
        "| Field              | Description                                                        | Type  |\n",
        "|------------------ |------------------------------------------------------------------ |----- |\n",
        "| physics\\_err\\_r\\_x | The prediction error in the \\`x\\` component of the position vector | float |\n",
        "| physics\\_err\\_r\\_y | The prediction error in the \\`y\\` component of the position vector | float |\n",
        "| physics\\_err\\_r\\_z | The prediction error in the \\`z\\` component of the position vector | float |\n",
        "| physics\\_err\\_v\\_x | The prediction error in the \\`x\\` component of the velocity vector | float |\n",
        "| physics\\_err\\_v\\_y | The prediction error in the \\`y\\` component of the velocity vector | float |\n",
        "| physics\\_err\\_v\\_z | The prediction error in the \\`z\\` component of the velocity vector | float |\n",
        "\n",
        "\n",
        "## Training Gradient Boosted Regression Tree Models\n",
        "\n",
        "Now that we have built a training dataset, our job is to build a machine learning model to predict each of the six `physics_err_` columns. Our baseline approach uses [gradient boosted](https://en.wikipedia.org/wiki/Gradient_boosting) [regression trees](https://en.wikipedia.org/wiki/Decision_tree_learning) (GBRTs) via the popular [XGBoost](https://xgboost.ai) package. First we split the training data we constructed in the previous section into a training and test set. We will use 80% of our data for training and reserve the remaining 20% to evaluate how well our model performs."
      ]
    },
    {
      "cell_type": "code",
      "execution_count": null,
      "id": "southeast-company",
      "metadata": {
        "id": "southeast-company"
      },
      "outputs": [],
      "source": [
        "import orbit_prediction.ml_model as ml\n",
        "\n",
        "train_test_data = ml.build_train_test_sets(physics_model_errors, test_size=0.2)"
      ]
    },
    {
      "cell_type": "markdown",
      "id": "quantitative-egyptian",
      "metadata": {
        "id": "quantitative-egyptian"
      },
      "source": [
        "Next we train six different regression models, one for each `physics_err_` column. Take a look [here](https://xgboost.readthedocs.io/en/latest/parameter.html) for all the possible parameters that can be passed to the underlying models."
      ]
    },
    {
      "cell_type": "code",
      "execution_count": null,
      "id": "virtual-outreach",
      "metadata": {
        "id": "virtual-outreach"
      },
      "outputs": [],
      "source": [
        "gbrt_params = {'tree_method': 'hist'}\n",
        "physics_error_model = ml.train_models(train_test_data, params=gbrt_params)"
      ]
    },
    {
      "cell_type": "markdown",
      "id": "opposed-yorkshire",
      "metadata": {
        "id": "opposed-yorkshire"
      },
      "source": [
        "Now that we have trained out models lets see how they performed using both the [root-mean-square error (RMSE)](https://en.wikipedia.org/wiki/Root-mean-square_deviation) and the [coefficient of determination (R<sup>2</sup>)](https://en.wikipedia.org/wiki/Coefficient_of_determination) as evaluation functions."
      ]
    },
    {
      "cell_type": "code",
      "execution_count": null,
      "id": "oriental-projection",
      "metadata": {
        "id": "oriental-projection"
      },
      "outputs": [],
      "source": [
        "physics_error_model.eval_models(train_test_data['X_test'],\n",
        "                                train_test_data['y_test'])"
      ]
    },
    {
      "cell_type": "markdown",
      "id": "particular-tulsa",
      "metadata": {
        "id": "particular-tulsa"
      },
      "source": [
        "Now can you improve upon these results by:\n",
        "\n",
        "-   Using different parameters for the GBRT models?\n",
        "-   Using a different machine learning technique?\n",
        "-   Augmenting the training data or performing feature engineering?"
      ]
    },
    {
      "cell_type": "code",
      "execution_count": null,
      "id": "moral-birth",
      "metadata": {
        "id": "moral-birth"
      },
      "outputs": [],
      "source": []
    }
  ],
  "metadata": {
    "kernelspec": {
      "display_name": "Python 3",
      "language": "python",
      "name": "python3"
    },
    "language_info": {
      "codemirror_mode": {
        "name": "ipython",
        "version": 3
      },
      "file_extension": ".py",
      "mimetype": "text/x-python",
      "name": "python",
      "nbconvert_exporter": "python",
      "pygments_lexer": "ipython3",
      "version": "3.8.5"
    },
    "colab": {
      "provenance": []
    }
  },
  "nbformat": 4,
  "nbformat_minor": 5
}